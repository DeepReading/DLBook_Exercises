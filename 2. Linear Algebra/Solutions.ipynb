{
 "cells": [
  {
   "cell_type": "code",
   "execution_count": 17,
   "metadata": {
    "collapsed": false
   },
   "outputs": [],
   "source": [
    "## Administrative things\n",
    "\n",
    "from IPython.display import Markdown, display\n",
    "def printmd(string):\n",
    "    display(Markdown(string))\n",
    "    \n",
    "import numpy as np\n",
    "from pprint import pprint"
   ]
  },
  {
   "cell_type": "markdown",
   "metadata": {},
   "source": [
    "Q. How would you represent a Scalar / Vector / Matrix / Tensor quantity in Python?"
   ]
  },
  {
   "cell_type": "code",
   "execution_count": 24,
   "metadata": {
    "collapsed": false
   },
   "outputs": [
    {
     "data": {
      "text/markdown": [
       "In numpy, everything (viz scalar, vector, matrix, tensor) is represented as an **array**. <br/>So you can see examples as below:"
      ],
      "text/plain": [
       "<IPython.core.display.Markdown object>"
      ]
     },
     "metadata": {},
     "output_type": "display_data"
    },
    {
     "name": "stdout",
     "output_type": "stream",
     "text": [
      "Scalar: array([1])\n",
      " \n",
      "Vector: array([1, 1])\n",
      " \n",
      "Matrix: array([[1, 1],\n",
      "       [1, 1]])\n",
      " \n",
      "Tensor: array([[1, 1, 1],\n",
      "       [1, 1, 1],\n",
      "       [1, 1, 1]])\n",
      "\n"
     ]
    }
   ],
   "source": [
    "printmd('In numpy, everything (viz scalar, vector, matrix, tensor) is represented as an **array**. <br/>\\\n",
    "So you can see examples as below:')\n",
    "print 'Scalar: ',\n",
    "x = np.array([1])\n",
    "pprint(x)\n",
    "print '\\nVector: ',\n",
    "x = np.array([1, 1])\n",
    "pprint(x)\n",
    "print '\\nMatrix: ',\n",
    "x = np.array([[1, 1], [1, 1]])\n",
    "pprint(x)\n",
    "print '\\nTensor: ',\n",
    "x = np.array([[1, 1, 1], [1, 1, 1], [1, 1, 1]])\n",
    "pprint(x)"
   ]
  },
  {
   "cell_type": "code",
   "execution_count": null,
   "metadata": {
    "collapsed": true
   },
   "outputs": [],
   "source": []
  },
  {
   "cell_type": "code",
   "execution_count": null,
   "metadata": {
    "collapsed": true
   },
   "outputs": [],
   "source": []
  }
 ],
 "metadata": {
  "kernelspec": {
   "display_name": "Python [Root]",
   "language": "python",
   "name": "Python [Root]"
  },
  "language_info": {
   "codemirror_mode": {
    "name": "ipython",
    "version": 2
   },
   "file_extension": ".py",
   "mimetype": "text/x-python",
   "name": "python",
   "nbconvert_exporter": "python",
   "pygments_lexer": "ipython2",
   "version": "2.7.12"
  }
 },
 "nbformat": 4,
 "nbformat_minor": 0
}
